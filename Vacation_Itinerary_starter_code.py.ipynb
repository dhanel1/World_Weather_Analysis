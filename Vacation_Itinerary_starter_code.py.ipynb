{
 "cells": [
  {
   "cell_type": "markdown",
   "metadata": {},
   "source": [
    "## Deliverable 3. Create a Travel Itinerary Map."
   ]
  },
  {
   "cell_type": "code",
   "execution_count": 2,
   "metadata": {},
   "outputs": [],
   "source": [
    "# Dependencies and Setup\n",
    "import pandas as pd\n",
    "import requests\n",
    "import gmaps\n",
    "\n",
    "# Import API key\n",
    "from config import g_key\n",
    "\n",
    "# Configure gmaps\n",
    "gmaps.configure(api_key=g_key)"
   ]
  },
  {
   "cell_type": "code",
   "execution_count": 34,
   "metadata": {},
   "outputs": [
    {
     "data": {
      "text/html": [
       "<div>\n",
       "<style scoped>\n",
       "    .dataframe tbody tr th:only-of-type {\n",
       "        vertical-align: middle;\n",
       "    }\n",
       "\n",
       "    .dataframe tbody tr th {\n",
       "        vertical-align: top;\n",
       "    }\n",
       "\n",
       "    .dataframe thead th {\n",
       "        text-align: right;\n",
       "    }\n",
       "</style>\n",
       "<table border=\"1\" class=\"dataframe\">\n",
       "  <thead>\n",
       "    <tr style=\"text-align: right;\">\n",
       "      <th></th>\n",
       "      <th>Unnamed: 0</th>\n",
       "      <th>City</th>\n",
       "      <th>Country</th>\n",
       "      <th>Lat</th>\n",
       "      <th>Lng</th>\n",
       "      <th>Max Temp</th>\n",
       "      <th>Humidity</th>\n",
       "      <th>Cloudiness</th>\n",
       "      <th>Wind Speed</th>\n",
       "      <th>Current Description</th>\n",
       "    </tr>\n",
       "  </thead>\n",
       "  <tbody>\n",
       "    <tr>\n",
       "      <th>438</th>\n",
       "      <td>438</td>\n",
       "      <td>vierzon</td>\n",
       "      <td>fr</td>\n",
       "      <td>47.351142</td>\n",
       "      <td>1.714511</td>\n",
       "      <td>41.00</td>\n",
       "      <td>93</td>\n",
       "      <td>{'all': 67}</td>\n",
       "      <td>9.17</td>\n",
       "      <td>broken clouds</td>\n",
       "    </tr>\n",
       "    <tr>\n",
       "      <th>460</th>\n",
       "      <td>460</td>\n",
       "      <td>plouzane</td>\n",
       "      <td>fr</td>\n",
       "      <td>47.588518</td>\n",
       "      <td>-5.111330</td>\n",
       "      <td>42.80</td>\n",
       "      <td>80</td>\n",
       "      <td>{'all': 100}</td>\n",
       "      <td>14.99</td>\n",
       "      <td>moderate rain</td>\n",
       "    </tr>\n",
       "    <tr>\n",
       "      <th>1220</th>\n",
       "      <td>1220</td>\n",
       "      <td>marseille</td>\n",
       "      <td>fr</td>\n",
       "      <td>42.781780</td>\n",
       "      <td>5.211725</td>\n",
       "      <td>54.00</td>\n",
       "      <td>72</td>\n",
       "      <td>{'all': 100}</td>\n",
       "      <td>7.00</td>\n",
       "      <td>overcast clouds</td>\n",
       "    </tr>\n",
       "    <tr>\n",
       "      <th>1242</th>\n",
       "      <td>1242</td>\n",
       "      <td>gien</td>\n",
       "      <td>fr</td>\n",
       "      <td>47.721396</td>\n",
       "      <td>2.691995</td>\n",
       "      <td>42.01</td>\n",
       "      <td>98</td>\n",
       "      <td>{'all': 93}</td>\n",
       "      <td>13.98</td>\n",
       "      <td>overcast clouds</td>\n",
       "    </tr>\n",
       "  </tbody>\n",
       "</table>\n",
       "</div>"
      ],
      "text/plain": [
       "      Unnamed: 0       City Country        Lat       Lng  Max Temp  Humidity  \\\n",
       "438          438    vierzon      fr  47.351142  1.714511     41.00        93   \n",
       "460          460   plouzane      fr  47.588518 -5.111330     42.80        80   \n",
       "1220        1220  marseille      fr  42.781780  5.211725     54.00        72   \n",
       "1242        1242       gien      fr  47.721396  2.691995     42.01        98   \n",
       "\n",
       "        Cloudiness  Wind Speed Current Description  \n",
       "438    {'all': 67}        9.17       broken clouds  \n",
       "460   {'all': 100}       14.99       moderate rain  \n",
       "1220  {'all': 100}        7.00     overcast clouds  \n",
       "1242   {'all': 93}       13.98     overcast clouds  "
      ]
     },
     "execution_count": 34,
     "metadata": {},
     "output_type": "execute_result"
    }
   ],
   "source": [
    "# 1. Read the WeatherPy_vacation.csv into a DataFrame.\n",
    "vacation_df = pd.read_csv(r\"C:/Users/DLH/Documents/Weather Database/WeatherPy_Database.csv\")\n",
    "vacation_df.head(20)\n",
    "vacation_df[vacation_df[\"Country\"]=='fr'].head()\n",
    "            \n"
   ]
  },
  {
   "cell_type": "code",
   "execution_count": 11,
   "metadata": {},
   "outputs": [],
   "source": [
    "# 2. Using the template add the city name, the country code, the weather description and maximum temperature for the city.\n",
    "info_box_template = \"\"\"\n",
    "<dl>\n",
    "<dt>City</dt><dd>{Country}</dd>\n",
    "<dt>Current Description</dt><dd>{Max Temp}</dd>\n",
    "</dl>\n",
    "\"\"\"\n",
    "\n",
    "# 3a. Get the data from each row and add it to the formatting template and store the data in a list.\n",
    "hotel_info = [info_box_template.format(**row) for index, row in vacation_df.iterrows()]\n",
    "\n",
    "# 3b. Get the latitude and longitude from each row and store in a new DataFrame.\n",
    "locations = vacation_df[[\"Lat\", \"Lng\"]]"
   ]
  },
  {
   "cell_type": "code",
   "execution_count": 12,
   "metadata": {},
   "outputs": [
    {
     "name": "stderr",
     "output_type": "stream",
     "text": [
      "Enabling notebook extension jupyter-gmaps/extension...\n",
      "      - Validating: ok\n",
      "Enabling notebook extension jupyter-js-widgets/extension...\n",
      "      - Validating: ok\n"
     ]
    },
    {
     "data": {
      "application/vnd.jupyter.widget-view+json": {
       "model_id": "c9ad0fa58d954d438c9fe4b22b5641b2",
       "version_major": 2,
       "version_minor": 0
      },
      "text/plain": [
       "Figure(layout=FigureLayout(height='420px'))"
      ]
     },
     "metadata": {},
     "output_type": "display_data"
    }
   ],
   "source": [
    "# 4a. Add a marker layer for each city to the map.\n",
    "fig = gmaps.figure(center=(30.0, 31.0), zoom_level=1.5)\n",
    "marker_layer = gmaps.marker_layer(locations, info_box_content=hotel_info)\n",
    "fig.add_layer(marker_layer)\n",
    "# 4b. Display the figure\n",
    "!jupyter nbextension enable --py gmaps\n",
    "!jupyter nbextension enable --py widgetsnbextension\n",
    "fig\n"
   ]
  },
  {
   "cell_type": "code",
   "execution_count": 35,
   "metadata": {},
   "outputs": [],
   "source": [
    "# From the map above pick 4 cities and create a vacation itinerary route to travel between the four cities. \n",
    "# 5. Create DataFrames for each city by filtering the 'vacation_df' using the loc method. \n",
    "# Hint: The starting and ending city should be the same city.\n",
    "\n",
    "vacation_start = vacation_df.loc[vacation_df[\"City\"] == \"vierzon\"]\n",
    "vacation_end = vacation_df.loc[vacation_df[\"City\"] == \"vierzon\"]\n",
    "vacation_stop1 = vacation_df.loc[vacation_df[\"City\"] == \"plouzane\"]\n",
    "vacation_stop2 = vacation_df.loc[vacation_df[\"City\"] == \"marseille\"] \n",
    "vacation_stop3 = vacation_df.loc[vacation_df[\"City\"] == \"gien\"] "
   ]
  },
  {
   "cell_type": "code",
   "execution_count": 36,
   "metadata": {},
   "outputs": [],
   "source": [
    "# 6. Get the latitude-longitude pairs as tuples from each city DataFrame using the to_numpy function and list indexing.\n",
    "start = (vacation_start[\"Lat\"].iloc[0], vacation_start[\"Lng\"].iloc[0])\n",
    "end = (vacation_end[\"Lat\"].iloc[0], vacation_end[\"Lng\"].iloc[0])\n",
    "stop1 = (vacation_stop1[\"Lat\"].iloc[0], vacation_stop1[\"Lng\"].iloc[0])\n",
    "stop2 = (vacation_stop2[\"Lat\"].iloc[0], vacation_stop2[\"Lng\"].iloc[0])\n",
    "stop3 = (vacation_stop3[\"Lat\"].iloc[0], vacation_stop3[\"Lng\"].iloc[0])"
   ]
  },
  {
   "cell_type": "code",
   "execution_count": 37,
   "metadata": {
    "scrolled": true
   },
   "outputs": [
    {
     "data": {
      "application/vnd.jupyter.widget-view+json": {
       "model_id": "75aa6447175947e79ee3d37d18bafb36",
       "version_major": 2,
       "version_minor": 0
      },
      "text/plain": [
       "Figure(layout=FigureLayout(height='420px'))"
      ]
     },
     "metadata": {},
     "output_type": "display_data"
    }
   ],
   "source": [
    "# 7. Create a direction layer map using the start and end latitude-longitude pairs,\n",
    "# and stop1, stop2, and stop3 as the waypoints. The travel_mode should be \"DRIVING\", \"BICYCLING\", or \"WALKING\".\n",
    "fig = gmaps.figure()\n",
    "route1 = gmaps.directions_layer(start, stop1)\n",
    "fig.add_layer(route1)\n",
    "route2 = gmaps.directions_layer(stop1, stop2)\n",
    "fig.add_layer(route2)\n",
    "route3 = gmaps.directions_layer(stop2, stop3)\n",
    "fig.add_layer(route3)\n",
    "route4 = gmaps.directions_layer(stop3, end)\n",
    "fig.add_layer(route4)\n",
    "fig\n",
    "\n"
   ]
  },
  {
   "cell_type": "code",
   "execution_count": 38,
   "metadata": {},
   "outputs": [
    {
     "data": {
      "text/html": [
       "<div>\n",
       "<style scoped>\n",
       "    .dataframe tbody tr th:only-of-type {\n",
       "        vertical-align: middle;\n",
       "    }\n",
       "\n",
       "    .dataframe tbody tr th {\n",
       "        vertical-align: top;\n",
       "    }\n",
       "\n",
       "    .dataframe thead th {\n",
       "        text-align: right;\n",
       "    }\n",
       "</style>\n",
       "<table border=\"1\" class=\"dataframe\">\n",
       "  <thead>\n",
       "    <tr style=\"text-align: right;\">\n",
       "      <th></th>\n",
       "      <th>Unnamed: 0</th>\n",
       "      <th>City</th>\n",
       "      <th>Country</th>\n",
       "      <th>Lat</th>\n",
       "      <th>Lng</th>\n",
       "      <th>Max Temp</th>\n",
       "      <th>Humidity</th>\n",
       "      <th>Cloudiness</th>\n",
       "      <th>Wind Speed</th>\n",
       "      <th>Current Description</th>\n",
       "    </tr>\n",
       "  </thead>\n",
       "  <tbody>\n",
       "    <tr>\n",
       "      <th>0</th>\n",
       "      <td>438</td>\n",
       "      <td>vierzon</td>\n",
       "      <td>fr</td>\n",
       "      <td>47.351142</td>\n",
       "      <td>1.714511</td>\n",
       "      <td>41.00</td>\n",
       "      <td>93</td>\n",
       "      <td>{'all': 67}</td>\n",
       "      <td>9.17</td>\n",
       "      <td>broken clouds</td>\n",
       "    </tr>\n",
       "    <tr>\n",
       "      <th>1</th>\n",
       "      <td>460</td>\n",
       "      <td>plouzane</td>\n",
       "      <td>fr</td>\n",
       "      <td>47.588518</td>\n",
       "      <td>-5.111330</td>\n",
       "      <td>42.80</td>\n",
       "      <td>80</td>\n",
       "      <td>{'all': 100}</td>\n",
       "      <td>14.99</td>\n",
       "      <td>moderate rain</td>\n",
       "    </tr>\n",
       "    <tr>\n",
       "      <th>2</th>\n",
       "      <td>1220</td>\n",
       "      <td>marseille</td>\n",
       "      <td>fr</td>\n",
       "      <td>42.781780</td>\n",
       "      <td>5.211725</td>\n",
       "      <td>54.00</td>\n",
       "      <td>72</td>\n",
       "      <td>{'all': 100}</td>\n",
       "      <td>7.00</td>\n",
       "      <td>overcast clouds</td>\n",
       "    </tr>\n",
       "    <tr>\n",
       "      <th>3</th>\n",
       "      <td>1242</td>\n",
       "      <td>gien</td>\n",
       "      <td>fr</td>\n",
       "      <td>47.721396</td>\n",
       "      <td>2.691995</td>\n",
       "      <td>42.01</td>\n",
       "      <td>98</td>\n",
       "      <td>{'all': 93}</td>\n",
       "      <td>13.98</td>\n",
       "      <td>overcast clouds</td>\n",
       "    </tr>\n",
       "  </tbody>\n",
       "</table>\n",
       "</div>"
      ],
      "text/plain": [
       "   Unnamed: 0       City Country        Lat       Lng  Max Temp  Humidity  \\\n",
       "0         438    vierzon      fr  47.351142  1.714511     41.00        93   \n",
       "1         460   plouzane      fr  47.588518 -5.111330     42.80        80   \n",
       "2        1220  marseille      fr  42.781780  5.211725     54.00        72   \n",
       "3        1242       gien      fr  47.721396  2.691995     42.01        98   \n",
       "\n",
       "     Cloudiness  Wind Speed Current Description  \n",
       "0   {'all': 67}        9.17       broken clouds  \n",
       "1  {'all': 100}       14.99       moderate rain  \n",
       "2  {'all': 100}        7.00     overcast clouds  \n",
       "3   {'all': 93}       13.98     overcast clouds  "
      ]
     },
     "execution_count": 38,
     "metadata": {},
     "output_type": "execute_result"
    }
   ],
   "source": [
    "# 8. To create a marker layer map between the four cities.\n",
    "#  Combine the four city DataFrames into one DataFrame using the concat() function.\n",
    "itinerary_df = pd.concat([vacation_start, vacation_stop1, vacation_stop2, vacation_stop3],ignore_index=True)\n",
    "itinerary_df"
   ]
  },
  {
   "cell_type": "code",
   "execution_count": 39,
   "metadata": {},
   "outputs": [],
   "source": [
    "# 9 Using the template add city name, the country code, the weather description and maximum temperature for the city. \n",
    "info_box_template = \"\"\"\n",
    "<dl>\n",
    "<dt>City</dt><dd>{Country}</dd>\n",
    "<dt>Current Description</dt><dd>{Max Temp}</dd>\n",
    "</dl>\n",
    "\"\"\"\n",
    "\n",
    "# 10a Get the data from each row and add it to the formatting template and store the data in a list.\n",
    "hotel_info = [info_box_template.format(**row) for index, row in itinerary_df.iterrows()]\n",
    "\n",
    "# 10b. Get the latitude and longitude from each row and store in a new DataFrame.\n",
    "locations = itinerary_df[[\"Lat\", \"Lng\"]]"
   ]
  },
  {
   "cell_type": "code",
   "execution_count": 40,
   "metadata": {},
   "outputs": [
    {
     "name": "stderr",
     "output_type": "stream",
     "text": [
      "Enabling notebook extension jupyter-gmaps/extension...\n",
      "      - Validating: ok\n",
      "Enabling notebook extension jupyter-js-widgets/extension...\n",
      "      - Validating: ok\n"
     ]
    },
    {
     "data": {
      "application/vnd.jupyter.widget-view+json": {
       "model_id": "a520a6a4750d4b31a7f6142706d3b4c5",
       "version_major": 2,
       "version_minor": 0
      },
      "text/plain": [
       "Figure(layout=FigureLayout(height='420px'))"
      ]
     },
     "metadata": {},
     "output_type": "display_data"
    }
   ],
   "source": [
    "# 11a. Add a marker layer for each city to the map.\n",
    "fig = gmaps.figure(center=(30.0, 31.0), zoom_level=1.5)\n",
    "marker_layer = gmaps.marker_layer(locations, info_box_content=hotel_info)\n",
    "fig.add_layer(marker_layer)\n",
    "# 11b. Display the figure\n",
    "!jupyter nbextension enable --py gmaps\n",
    "!jupyter nbextension enable --py widgetsnbextension\n",
    "fig"
   ]
  },
  {
   "cell_type": "code",
   "execution_count": null,
   "metadata": {},
   "outputs": [],
   "source": []
  }
 ],
 "metadata": {
  "kernelspec": {
   "display_name": "Python 3",
   "language": "python",
   "name": "python3"
  },
  "language_info": {
   "codemirror_mode": {
    "name": "ipython",
    "version": 3
   },
   "file_extension": ".py",
   "mimetype": "text/x-python",
   "name": "python",
   "nbconvert_exporter": "python",
   "pygments_lexer": "ipython3",
   "version": "3.8.3"
  },
  "latex_envs": {
   "LaTeX_envs_menu_present": true,
   "autoclose": false,
   "autocomplete": true,
   "bibliofile": "biblio.bib",
   "cite_by": "apalike",
   "current_citInitial": 1,
   "eqLabelWithNumbers": true,
   "eqNumInitial": 1,
   "hotkeys": {
    "equation": "Ctrl-E",
    "itemize": "Ctrl-I"
   },
   "labels_anchors": false,
   "latex_user_defs": false,
   "report_style_numbering": false,
   "user_envs_cfg": false
  }
 },
 "nbformat": 4,
 "nbformat_minor": 2
}
