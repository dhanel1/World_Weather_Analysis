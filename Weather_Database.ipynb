{
 "cells": [
  {
   "cell_type": "code",
   "execution_count": 11,
   "metadata": {},
   "outputs": [],
   "source": [
    "# Import the random module.\n",
    "import random\n",
    "import numpy as np"
   ]
  },
  {
   "cell_type": "code",
   "execution_count": 12,
   "metadata": {},
   "outputs": [],
   "source": [
    "# Generate 2000 latitudes and longitudes\n",
    "latitudes = np.random.randint(-90 , high=90,size=2000) + np.random.random(size=2000)\n",
    "longitudes = np.random.randint(-180 , high=180,size=2000) + np.random.random(size=2000)"
   ]
  },
  {
   "cell_type": "code",
   "execution_count": 13,
   "metadata": {},
   "outputs": [
    {
     "name": "stdout",
     "output_type": "stream",
     "text": [
      "Requirement already satisfied: citipy in c:\\users\\dlh\\anaconda4\\lib\\site-packages (0.0.5)\n",
      "Requirement already satisfied: kdtree>=0.12 in c:\\users\\dlh\\anaconda4\\lib\\site-packages (from citipy) (0.16)\n",
      "Note: you may need to restart the kernel to use updated packages.\n"
     ]
    }
   ],
   "source": [
    "pip install citipy"
   ]
  },
  {
   "cell_type": "code",
   "execution_count": 14,
   "metadata": {},
   "outputs": [],
   "source": [
    "# Use the citipy module to determine city based on latitude and longitude.\n",
    "from citipy import citipy"
   ]
  },
  {
   "cell_type": "code",
   "execution_count": 15,
   "metadata": {},
   "outputs": [],
   "source": [
    "# Get nearest city\n",
    "cities = []\n",
    "for i in range(len(latitudes)):\n",
    "    cities.append(citipy.nearest_city(latitudes[i],longitudes[i]))"
   ]
  },
  {
   "cell_type": "code",
   "execution_count": 16,
   "metadata": {},
   "outputs": [],
   "source": [
    "# Import the requests library.\n",
    "import requests\n",
    "import os\n",
    "os.chdir(r'C:\\Users\\DLH\\Documents\\Weather Database')\n",
    "# Import the API key.\n",
    "from config import weather_api_key"
   ]
  },
  {
   "cell_type": "code",
   "execution_count": 17,
   "metadata": {},
   "outputs": [
    {
     "name": "stdout",
     "output_type": "stream",
     "text": [
      "http://api.openweathermap.org/data/2.5/weather?units=Imperial&APPID=1350f6c2ebce260c0936a71d02c6d9be\n"
     ]
    }
   ],
   "source": [
    "# Starting URL for Weather Map API Call.\n",
    "url = \"http://api.openweathermap.org/data/2.5/weather?units=Imperial&APPID=\" + weather_api_key\n",
    "print(url)"
   ]
  },
  {
   "cell_type": "code",
   "execution_count": 18,
   "metadata": {},
   "outputs": [],
   "source": [
    "# Create an endpoint URL for a city.\n",
    "import requests,json\n",
    "city_names = []\n",
    "countries = []\n",
    "max_temp = []\n",
    "humidity = []\n",
    "cloudiness = []\n",
    "windspeed = []\n",
    "current_desc = []\n",
    "\n",
    "for city in cities:\n",
    "    city_names.append(city.city_name)\n",
    "    countries.append(city.country_code)\n",
    "    city_url = url + \"&q=\" + city.city_name\n",
    "    response = requests.get(city_url)\n",
    "    x = response.json()\n",
    "    if x[\"cod\"] != '404':\n",
    "        y = x[\"main\"]\n",
    "        max_temp.append(y[\"temp_max\"])\n",
    "        humidity.append(y[\"humidity\"])\n",
    "        cloudiness.append(x[\"clouds\"])\n",
    "        windspeed.append(x[\"wind\"][\"speed\"])\n",
    "        w = x[\"weather\"][0]\n",
    "        current_desc.append(w[\"description\"])\n",
    "    else:\n",
    "        max_temp.append(0)\n",
    "        humidity.append(0)\n",
    "        cloudiness.append(0)\n",
    "        windspeed.append(0)\n",
    "        current_desc.append(\"\")\n",
    "            \n"
   ]
  },
  {
   "cell_type": "code",
   "execution_count": 19,
   "metadata": {},
   "outputs": [
    {
     "data": {
      "text/html": [
       "<div>\n",
       "<style scoped>\n",
       "    .dataframe tbody tr th:only-of-type {\n",
       "        vertical-align: middle;\n",
       "    }\n",
       "\n",
       "    .dataframe tbody tr th {\n",
       "        vertical-align: top;\n",
       "    }\n",
       "\n",
       "    .dataframe thead th {\n",
       "        text-align: right;\n",
       "    }\n",
       "</style>\n",
       "<table border=\"1\" class=\"dataframe\">\n",
       "  <thead>\n",
       "    <tr style=\"text-align: right;\">\n",
       "      <th></th>\n",
       "      <th>City</th>\n",
       "      <th>Country</th>\n",
       "      <th>Lat</th>\n",
       "      <th>Lng</th>\n",
       "      <th>Max Temp</th>\n",
       "      <th>Humidity</th>\n",
       "      <th>Cloudiness</th>\n",
       "      <th>Wind Speed</th>\n",
       "      <th>Current Description</th>\n",
       "    </tr>\n",
       "  </thead>\n",
       "  <tbody>\n",
       "    <tr>\n",
       "      <th>0</th>\n",
       "      <td>aflu</td>\n",
       "      <td>dz</td>\n",
       "      <td>31.883867</td>\n",
       "      <td>1.459673</td>\n",
       "      <td>0.00</td>\n",
       "      <td>0</td>\n",
       "      <td>0</td>\n",
       "      <td>0.00</td>\n",
       "      <td></td>\n",
       "    </tr>\n",
       "    <tr>\n",
       "      <th>1</th>\n",
       "      <td>hambantota</td>\n",
       "      <td>lk</td>\n",
       "      <td>-0.916165</td>\n",
       "      <td>87.480602</td>\n",
       "      <td>75.70</td>\n",
       "      <td>87</td>\n",
       "      <td>{'all': 16}</td>\n",
       "      <td>6.93</td>\n",
       "      <td>few clouds</td>\n",
       "    </tr>\n",
       "    <tr>\n",
       "      <th>2</th>\n",
       "      <td>norman wells</td>\n",
       "      <td>ca</td>\n",
       "      <td>73.344074</td>\n",
       "      <td>-119.794987</td>\n",
       "      <td>-9.40</td>\n",
       "      <td>83</td>\n",
       "      <td>{'all': 75}</td>\n",
       "      <td>4.38</td>\n",
       "      <td>broken clouds</td>\n",
       "    </tr>\n",
       "    <tr>\n",
       "      <th>3</th>\n",
       "      <td>jamestown</td>\n",
       "      <td>sh</td>\n",
       "      <td>-28.164778</td>\n",
       "      <td>-10.134299</td>\n",
       "      <td>33.01</td>\n",
       "      <td>80</td>\n",
       "      <td>{'all': 1}</td>\n",
       "      <td>17.65</td>\n",
       "      <td>clear sky</td>\n",
       "    </tr>\n",
       "    <tr>\n",
       "      <th>4</th>\n",
       "      <td>bluff</td>\n",
       "      <td>nz</td>\n",
       "      <td>-63.417944</td>\n",
       "      <td>172.551918</td>\n",
       "      <td>69.01</td>\n",
       "      <td>47</td>\n",
       "      <td>{'all': 0}</td>\n",
       "      <td>3.00</td>\n",
       "      <td>clear sky</td>\n",
       "    </tr>\n",
       "  </tbody>\n",
       "</table>\n",
       "</div>"
      ],
      "text/plain": [
       "           City Country        Lat         Lng  Max Temp  Humidity  \\\n",
       "0          aflu      dz  31.883867    1.459673      0.00         0   \n",
       "1    hambantota      lk  -0.916165   87.480602     75.70        87   \n",
       "2  norman wells      ca  73.344074 -119.794987     -9.40        83   \n",
       "3     jamestown      sh -28.164778  -10.134299     33.01        80   \n",
       "4         bluff      nz -63.417944  172.551918     69.01        47   \n",
       "\n",
       "    Cloudiness  Wind Speed Current Description  \n",
       "0            0        0.00                      \n",
       "1  {'all': 16}        6.93          few clouds  \n",
       "2  {'all': 75}        4.38       broken clouds  \n",
       "3   {'all': 1}       17.65           clear sky  \n",
       "4   {'all': 0}        3.00           clear sky  "
      ]
     },
     "execution_count": 19,
     "metadata": {},
     "output_type": "execute_result"
    }
   ],
   "source": [
    "import pandas as pd\n",
    "    \n",
    "output = pd.DataFrame({'City':city_names,\"Country\":countries,\n",
    "                       \"Lat\":latitudes,\"Lng\":longitudes,\n",
    "                       \"Max Temp\":max_temp, \"Humidity\":humidity,\n",
    "                      \"Cloudiness\":cloudiness,\"Wind Speed\":windspeed,\n",
    "                      \"Current Description\":current_desc})\n",
    "output.head()"
   ]
  },
  {
   "cell_type": "code",
   "execution_count": 21,
   "metadata": {},
   "outputs": [],
   "source": [
    "output.to_csv('WeatherPy_Database.csv')"
   ]
  },
  {
   "cell_type": "code",
   "execution_count": null,
   "metadata": {},
   "outputs": [],
   "source": []
  }
 ],
 "metadata": {
  "kernelspec": {
   "display_name": "Python 3",
   "language": "python",
   "name": "python3"
  },
  "language_info": {
   "codemirror_mode": {
    "name": "ipython",
    "version": 3
   },
   "file_extension": ".py",
   "mimetype": "text/x-python",
   "name": "python",
   "nbconvert_exporter": "python",
   "pygments_lexer": "ipython3",
   "version": "3.8.3"
  }
 },
 "nbformat": 4,
 "nbformat_minor": 4
}
